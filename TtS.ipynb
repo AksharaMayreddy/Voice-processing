{
 "cells": [
  {
   "cell_type": "code",
   "execution_count": null,
   "metadata": {},
   "outputs": [],
   "source": [
    "# Text to Speech using gTTS API"
   ]
  },
  {
   "cell_type": "code",
   "execution_count": 1,
   "metadata": {},
   "outputs": [
    {
     "name": "stdout",
     "output_type": "stream",
     "text": [
      "C:\\Users\\aksha\\Desktop\n"
     ]
    }
   ],
   "source": [
    "from gtts import gTTS\n",
    "\n",
    "import os\n",
    "\n",
    "txt=\"Hello,How are you? How is the weather out there?\"\n",
    "tts = gTTS(text=txt, lang='en')\n",
    "\n",
    "tts.save(\"speech.mp3\")\n",
    "\n",
    "os.system(\"mpg321 speech.mp3\")\n",
    "\n",
    "print(os.getcwd()) "
   ]
  },
  {
   "cell_type": "code",
   "execution_count": null,
   "metadata": {},
   "outputs": [],
   "source": [
    "# Text to Speech using pyttsx3 library"
   ]
  },
  {
   "cell_type": "code",
   "execution_count": null,
   "metadata": {},
   "outputs": [],
   "source": [
    "import pyttsx3 \n",
    "\n",
    "tt = pyttsx3.init() \n",
    "\n",
    "a=input(\"enter something : \")\n",
    "\n",
    "tt.say(a) \n",
    " \n",
    "tt.runAndWait() \n"
   ]
  },
  {
   "cell_type": "code",
   "execution_count": null,
   "metadata": {},
   "outputs": [],
   "source": [
    "import pyttsx3\n",
    "engine = pyttsx3.init()\n",
    "\n",
    "engine.setProperty('rate', 150)    # Speed percent (can go over 100)\n",
    "engine.setProperty('volume', 0.9)  # Volume 0-1\n",
    "\n",
    "en_voice_id = \"HKEY_LOCAL_MACHINE\\SOFTWARE\\Microsoft\\Speech\\Voices\\Tokens\\TTS_MS_EN-US_ZIRA_11.0\"\n",
    "\n",
    "engine.setProperty('voice', en_voice_id)\n",
    "engine.say('Akshara')\n",
    "\n",
    "engine.runAndWait()"
   ]
  },
  {
   "cell_type": "code",
   "execution_count": null,
   "metadata": {},
   "outputs": [],
   "source": [
    "import pyttsx3\n",
    "\n",
    "engine = pyttsx3.init()\n",
    "\n",
    "en_voice_id = \"HKEY_LOCAL_MACHINE\\SOFTWARE\\Microsoft\\Speech\\Voices\\Tokens\\TTS_MS_EN-IND_RAVI_11.0\"\n",
    "\n",
    "engine.setProperty('voice',en_voice_id)\n",
    "engine.say('Akshara')\n",
    "engine.runAndWait()\n"
   ]
  },
  {
   "cell_type": "code",
   "execution_count": null,
   "metadata": {},
   "outputs": [],
   "source": [
    "# Speech to Text "
   ]
  },
  {
   "cell_type": "code",
   "execution_count": null,
   "metadata": {},
   "outputs": [],
   "source": [
    "import speech_recognition as sr\n",
    "\n",
    "r = sr.Recognizer()\n",
    "src = sr.AudioFile('OSR_us_000_0010_8k.wav')\n",
    "\n",
    "with src as source:\n",
    "    audio = r.record(source)\n",
    "    \n",
    "r.recognize_google(audio)"
   ]
  },
  {
   "cell_type": "code",
   "execution_count": null,
   "metadata": {},
   "outputs": [],
   "source": [
    "import speech_recognition as sr \n",
    "\n",
    "mic_name = \"USB Device 0x46d:0x825: Audio (hw:1, 0)\"\n",
    "\n",
    "r = sr.Recognizer() \n",
    "\n",
    "d_id = 0 \n",
    "\n",
    "#generate a list of all audio cards/microphones \n",
    "mic_list = sr.Microphone.list_microphone_names()\n",
    "\n",
    "print(mic_list)\n",
    "\n",
    "for i, microphone_name in enumerate(mic_list): \n",
    "    if microphone_name == mic_name: \n",
    "        d_id = i \n",
    "\n",
    "print(\"System Mic : \"+microphone_name)\n",
    "\n",
    "with sr.Microphone(device_index = d_id) as source: \n",
    "    r.adjust_for_ambient_noise(source) \n",
    "    print(\"Say Something\")\n",
    "#listens for the user's input \n",
    "    audio = r.listen(source) \n",
    "\n",
    "try: \n",
    "    text = r.recognize_google(audio) \n",
    "    print(\"you said: \"+text)\n",
    "      \n",
    "except sr.UnknownValueError: \n",
    "    print(\"Google Speech Recognition could not understand audio\") \n",
    "      \n",
    "except sr.RequestError as e: \n",
    "    print(\"Could not request results from Google Speech Recognition service; {0}\".format(e)) "
   ]
  },
  {
   "cell_type": "code",
   "execution_count": null,
   "metadata": {},
   "outputs": [],
   "source": []
  }
 ],
 "metadata": {
  "kernelspec": {
   "display_name": "Python 3",
   "language": "python",
   "name": "python3"
  },
  "language_info": {
   "codemirror_mode": {
    "name": "ipython",
    "version": 3
   },
   "file_extension": ".py",
   "mimetype": "text/x-python",
   "name": "python",
   "nbconvert_exporter": "python",
   "pygments_lexer": "ipython3",
   "version": "3.7.3"
  }
 },
 "nbformat": 4,
 "nbformat_minor": 2
}
